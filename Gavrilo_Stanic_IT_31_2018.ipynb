{
  "cells": [
    {
      "cell_type": "code",
      "execution_count": null,
      "metadata": {
        "id": "n0-12JCdX-kO"
      },
      "outputs": [],
      "source": []
    },
    {
      "cell_type": "markdown",
      "metadata": {
        "id": "PvixytGVCIfz"
      },
      "source": [
        "##Klasifikacija listova\n",
        "\n",
        "Klasifikacija (sistematizacija) je proces organizovanja informacija u kategorije ili klase tako da se podaci mogu jasnije analizirati ili razumeti. \n",
        "\n",
        "U ovom radu se vrši klasifikacija listo na osnovu atributa i slika.\n",
        "\n",
        "Za klasifikaciju na osnovu atributa korišćeni su jedni od najpopularnijih vrsta algoritma, i to su Naive bayes, K-nearest neighbour,Decision tree i Support vector machine.\n",
        "\n",
        "A za klasifikaciju na osnovu slike korišćene su metode transfer learning-a koristeći modele VGG16[1] i Resnet-50[2]"
      ]
    },
    {
      "cell_type": "code",
      "execution_count": 1,
      "metadata": {
        "colab": {
          "base_uri": "https://localhost:8080/"
        },
        "id": "B9J71I69CCbf",
        "outputId": "6c1451da-8bd9-44ee-c2a6-00f4ec71beb1"
      },
      "outputs": [
        {
          "output_type": "stream",
          "name": "stdout",
          "text": [
            "Mounted at /content/drive\n"
          ]
        }
      ],
      "source": [
        "from google.colab import drive\n",
        "drive.mount('/content/drive')"
      ]
    },
    {
      "cell_type": "markdown",
      "source": [
        "##Čitanje podataka za klasifikaciju na osnovu atributa\n"
      ],
      "metadata": {
        "id": "EjHbuO_KBdD3"
      }
    },
    {
      "cell_type": "code",
      "execution_count": 144,
      "metadata": {
        "id": "sBrNYCh5CDhR"
      },
      "outputs": [],
      "source": [
        "import pandas as pd\n",
        "import csv\n",
        "df_train = pd.read_csv('drive/MyDrive/leafs/train.csv')\n"
      ]
    },
    {
      "cell_type": "markdown",
      "source": [
        "##Priprema podataka\n"
      ],
      "metadata": {
        "id": "ncc-k7lBBj23"
      }
    },
    {
      "cell_type": "code",
      "execution_count": 145,
      "metadata": {
        "colab": {
          "base_uri": "https://localhost:8080/"
        },
        "id": "YFGGtjMTDY7k",
        "outputId": "b6ff298e-671a-4a8c-c7f0-abbe1a5e2737"
      },
      "outputs": [
        {
          "output_type": "execute_result",
          "data": {
            "text/plain": [
              "id           0\n",
              "species      0\n",
              "margin1      0\n",
              "margin2      0\n",
              "margin3      0\n",
              "            ..\n",
              "texture60    0\n",
              "texture61    0\n",
              "texture62    0\n",
              "texture63    0\n",
              "texture64    0\n",
              "Length: 194, dtype: int64"
            ]
          },
          "metadata": {},
          "execution_count": 145
        }
      ],
      "source": [
        "#provera da li ima praznih kolonna\n",
        "df_train.isnull().sum()"
      ]
    },
    {
      "cell_type": "code",
      "execution_count": 146,
      "metadata": {
        "colab": {
          "base_uri": "https://localhost:8080/"
        },
        "id": "dkgxEq2MVGDz",
        "outputId": "4c80aced-47b4-4acb-fb4b-352ef804af59"
      },
      "outputs": [
        {
          "output_type": "execute_result",
          "data": {
            "text/plain": [
              "99"
            ]
          },
          "metadata": {},
          "execution_count": 146
        }
      ],
      "source": [
        "#dobijanje broja klasa\n",
        "df_train['species'].nunique()"
      ]
    },
    {
      "cell_type": "code",
      "execution_count": 147,
      "metadata": {
        "id": "gjGNWudeVVXo"
      },
      "outputs": [],
      "source": [
        "\n",
        "from sklearn.model_selection import StratifiedShuffleSplit\n",
        "\n",
        "x_train = df_train.drop(['id','species'],axis = 1)\n",
        "y_train = df_train['species']\n",
        "\n"
      ]
    },
    {
      "cell_type": "code",
      "execution_count": 148,
      "metadata": {
        "colab": {
          "base_uri": "https://localhost:8080/"
        },
        "id": "pYYdYazqdJmh",
        "outputId": "48e69221-622b-464e-a920-c93034fcae2c"
      },
      "outputs": [
        {
          "output_type": "execute_result",
          "data": {
            "text/plain": [
              "0              Acer_Opalus\n",
              "1    Pterocarya_Stenoptera\n",
              "2     Quercus_Hartwissiana\n",
              "3          Tilia_Tomentosa\n",
              "4       Quercus_Variabilis\n",
              "Name: species, dtype: object"
            ]
          },
          "metadata": {},
          "execution_count": 148
        }
      ],
      "source": [
        "y_train.head()"
      ]
    },
    {
      "cell_type": "code",
      "execution_count": 149,
      "metadata": {
        "id": "IoSD8dOh4Yb6"
      },
      "outputs": [],
      "source": [
        "#Kodiranje labela, pošto vrednosti tipa string nisu pogodni za modele\n",
        "#koristi se LabelEncoding \n",
        "from sklearn.preprocessing import LabelEncoder\n",
        "\n",
        "enc = LabelEncoder()\n",
        "\n",
        "y_train = enc.fit_transform(y_train)"
      ]
    },
    {
      "cell_type": "code",
      "source": [
        "X = x_train.values\n",
        "y = y_train"
      ],
      "metadata": {
        "id": "Ujh3FkUua9JN"
      },
      "execution_count": 150,
      "outputs": []
    },
    {
      "cell_type": "code",
      "source": [
        "#Podela training skupa na training i validaciju koristeci stratifikaciju\n",
        "from sklearn.model_selection import StratifiedShuffleSplit\n",
        "\n",
        "sss = StratifiedShuffleSplit(n_splits=5, test_size=0.2,\n",
        "                             random_state=0)\n",
        "sss.get_n_splits(X, y)"
      ],
      "metadata": {
        "colab": {
          "base_uri": "https://localhost:8080/"
        },
        "id": "mlmH8ZdpG2R-",
        "outputId": "f48e31f7-4b59-4c24-b6af-24165812efaa"
      },
      "execution_count": 168,
      "outputs": [
        {
          "output_type": "execute_result",
          "data": {
            "text/plain": [
              "5"
            ]
          },
          "metadata": {},
          "execution_count": 168
        }
      ]
    },
    {
      "cell_type": "markdown",
      "source": [
        "##Treniranje"
      ],
      "metadata": {
        "id": "hfLzkVTqCETW"
      }
    },
    {
      "cell_type": "code",
      "source": [
        "from sklearn.metrics import accuracy_score\n",
        "from sklearn.neighbors import KNeighborsClassifier\n",
        "from sklearn.svm import SVC,LinearSVC,NuSVC\n",
        "from sklearn.tree import DecisionTreeClassifier\n",
        "from sklearn.ensemble import RandomForestClassifier, AdaBoostClassifier, GradientBoostingClassifier\n",
        "from sklearn.naive_bayes import GaussianNB\n",
        "from sklearn.discriminant_analysis import LinearDiscriminantAnalysis,QuadraticDiscriminantAnalysis\n",
        "from sklearn.metrics import log_loss\n",
        "\n",
        "classifiers = [\n",
        "    KNeighborsClassifier(3),\n",
        "    SVC(kernel='rbf',C = 0.025, probability= True),\n",
        "    RandomForestClassifier(),\n",
        "    GaussianNB()\n",
        "]"
      ],
      "metadata": {
        "id": "s96u-ruWvlg9"
      },
      "execution_count": 169,
      "outputs": []
    },
    {
      "cell_type": "code",
      "source": [
        "from sklearn.metrics import classification_report\n",
        "from sklearn.metrics import confusion_matrix\n",
        "from sklearn.metrics import accuracy_score\n",
        "from sklearn.neighbors import KNeighborsClassifier\n",
        "\n",
        "knn = KNeighborsClassifier(n_neighbors=3)\n",
        "\n",
        "log_cols=[\"Classifier\", \"Accuracy\", \"Log Loss\"] # created list \n",
        "log = pd.DataFrame(columns=log_cols)\n",
        "\n",
        "for train_index, test_index in sss.split(X, y):\n",
        "    X_train, X_test = X[train_index], X[test_index]\n",
        "    y_train, y_test = y[train_index], y[test_index]\n",
        "    print(len(y_train))\n",
        "    print(len(X_train))\n",
        "    for clf in classifiers:\n",
        "      name = clf.__class__.__name__\n",
        "      clf.fit(X_train,y_train)\n",
        "      #vraca predikciju\n",
        "      clf_prediction = clf.predict(X_test)\n",
        "      print(name+\" results: \")\n",
        "      acc = accuracy_score(y_test,clf_prediction)\n",
        "      print(\"Accuracy: {:.4%}\".format(acc))\n",
        "      #vraca verovatnocu predikcije\n",
        "      clf_prediction = clf.predict_proba(X_test)\n",
        "      ll = log_loss(y_test, clf_prediction)\n",
        "      print(\"Log Loss: {}\".format(ll))\n",
        "      log_entry = pd.DataFrame([[name, acc*100, ll]], columns=log_cols)\n",
        "      log = log.append(log_entry)\n",
        "      print('_'*40)\n",
        "    print(\"*\"*40)\n",
        "    "
      ],
      "metadata": {
        "colab": {
          "base_uri": "https://localhost:8080/"
        },
        "id": "rIjr-L3XRj-I",
        "outputId": "adc49bd3-9172-423c-b2e1-d25f7a6e1d00"
      },
      "execution_count": 170,
      "outputs": [
        {
          "output_type": "stream",
          "name": "stdout",
          "text": [
            "792\n",
            "792\n",
            "KNeighborsClassifier results: \n",
            "Accuracy: 85.8586%\n",
            "Log Loss: 1.4279539069915295\n",
            "________________________________________\n",
            "SVC results: \n",
            "Accuracy: 82.3232%\n",
            "Log Loss: 4.676131753669341\n",
            "________________________________________\n",
            "RandomForestClassifier results: \n",
            "Accuracy: 97.4747%\n",
            "Log Loss: 0.7709470977949338\n",
            "________________________________________\n",
            "GaussianNB results: \n",
            "Accuracy: 55.5556%\n",
            "Log Loss: 15.350567286627072\n",
            "________________________________________\n",
            "****************************************\n",
            "792\n",
            "792\n",
            "KNeighborsClassifier results: \n",
            "Accuracy: 83.8384%\n",
            "Log Loss: 2.3001452300953344\n",
            "________________________________________\n",
            "SVC results: \n",
            "Accuracy: 80.8081%\n",
            "Log Loss: 4.687519345905525\n",
            "________________________________________\n",
            "RandomForestClassifier results: \n",
            "Accuracy: 97.4747%\n",
            "Log Loss: 0.8008837213152119\n",
            "________________________________________\n",
            "GaussianNB results: \n",
            "Accuracy: 53.0303%\n",
            "Log Loss: 16.22275861996375\n",
            "________________________________________\n",
            "****************************************\n",
            "792\n",
            "792\n",
            "KNeighborsClassifier results: \n",
            "Accuracy: 87.3737%\n",
            "Log Loss: 2.625969495743585\n",
            "________________________________________\n",
            "SVC results: \n",
            "Accuracy: 82.3232%\n",
            "Log Loss: 4.6879207495310125\n",
            "________________________________________\n",
            "RandomForestClassifier results: \n",
            "Accuracy: 94.4444%\n",
            "Log Loss: 0.7559141394137603\n",
            "________________________________________\n",
            "GaussianNB results: \n",
            "Accuracy: 56.5657%\n",
            "Log Loss: 14.997806036678554\n",
            "________________________________________\n",
            "****************************************\n",
            "792\n",
            "792\n",
            "KNeighborsClassifier results: \n",
            "Accuracy: 88.8889%\n",
            "Log Loss: 1.757278915975941\n",
            "________________________________________\n",
            "SVC results: \n",
            "Accuracy: 84.8485%\n",
            "Log Loss: 4.772447622842645\n",
            "________________________________________\n",
            "RandomForestClassifier results: \n",
            "Accuracy: 98.4848%\n",
            "Log Loss: 0.7487524224754398\n",
            "________________________________________\n",
            "GaussianNB results: \n",
            "Accuracy: 54.5455%\n",
            "Log Loss: 15.699443828323114\n",
            "________________________________________\n",
            "****************************************\n",
            "792\n",
            "792\n",
            "KNeighborsClassifier results: \n",
            "Accuracy: 85.8586%\n",
            "Log Loss: 2.256614930739024\n",
            "________________________________________\n",
            "SVC results: \n",
            "Accuracy: 83.8384%\n",
            "Log Loss: 4.675918944193035\n",
            "________________________________________\n",
            "RandomForestClassifier results: \n",
            "Accuracy: 98.4848%\n",
            "Log Loss: 0.748916150936098\n",
            "________________________________________\n",
            "GaussianNB results: \n",
            "Accuracy: 54.5455%\n",
            "Log Loss: 15.6994438158686\n",
            "________________________________________\n",
            "****************************************\n"
          ]
        }
      ]
    },
    {
      "cell_type": "markdown",
      "source": [
        "##Prikaz rezultata"
      ],
      "metadata": {
        "id": "jia98dBICLy2"
      }
    },
    {
      "cell_type": "code",
      "source": [
        "import seaborn as sns\n",
        "import matplotlib.pyplot as plt\n",
        "sns.set_color_codes(\"muted\")\n",
        "sns.barplot(y='Classifier', x='Accuracy', data=log, color=\"b\")\n",
        "\n",
        "plt.xlabel('Accuracy %')\n",
        "plt.title('Classifier Accuracy')\n",
        "plt.show()\n",
        "\n",
        "sns.set_color_codes(\"muted\")\n",
        "sns.barplot(x='Log Loss', y='Classifier', data=log, color=\"g\")\n",
        "\n",
        "plt.xlabel('Log Loss')\n",
        "plt.title('Classifier Log Loss')\n",
        "plt.show()"
      ],
      "metadata": {
        "colab": {
          "base_uri": "https://localhost:8080/",
          "height": 573
        },
        "id": "EFF06P9Pwsy1",
        "outputId": "ef431c82-fd40-41ee-efe6-b83db9f238ec"
      },
      "execution_count": 171,
      "outputs": [
        {
          "output_type": "display_data",
          "data": {
            "text/plain": [
              "<Figure size 432x288 with 1 Axes>"
            ],
            "image/png": "[encoded data removed]"
          },
          "metadata": {
            "needs_background": "light"
          }
        },
        {
          "output_type": "display_data",
          "data": {
            "text/plain": [
              "<Figure size 432x288 with 1 Axes>"
            ],
            "image/png": "[encoded data removed]"
          },
          "metadata": {
            "needs_background": "light"
          }
        }
      ]
    },
    {
      "cell_type": "markdown",
      "source": [
        "##Klasifikacija na osnovu slike"
      ],
      "metadata": {
        "id": "XN6NJ3GyCPDN"
      }
    },
    {
      "cell_type": "code",
      "source": [
        "import pandas as pd\n",
        "import csv\n",
        "y_df = pd.read_csv('drive/MyDrive/leafs/train.csv',usecols= ['id','species'] ,skip_blank_lines=False, error_bad_lines=False)"
      ],
      "metadata": {
        "colab": {
          "base_uri": "https://localhost:8080/"
        },
        "id": "ENODiTgIW67L",
        "outputId": "5c34dcaa-34b3-40ce-c70b-2ba2a96b6701"
      },
      "execution_count": 96,
      "outputs": [
        {
          "output_type": "stream",
          "name": "stderr",
          "text": [
            "/usr/local/lib/python3.7/dist-packages/IPython/core/interactiveshell.py:3326: FutureWarning: The error_bad_lines argument has been deprecated and will be removed in a future version.\n",
            "\n",
            "\n",
            "  exec(code_obj, self.user_global_ns, self.user_ns)\n"
          ]
        }
      ]
    },
    {
      "cell_type": "markdown",
      "source": [
        "#Ucitavanje podataka\n",
        "\n",
        "Zbog problema sa csv-om , ne učitavaju se svi redovi, moraju se izbaciti sve slike čiji redovi se nisu učitali."
      ],
      "metadata": {
        "id": "iL1Z_pxeCS_f"
      }
    },
    {
      "cell_type": "code",
      "source": [
        "import numpy as np\n",
        "import tensorflow as tf\n",
        "from tensorflow.keras import layers\n",
        "from tensorflow import keras\n",
        "import matplotlib as plt\n",
        "\n",
        "from PIL import Image\n",
        "import glob\n",
        "from pathlib import Path\n",
        "\n",
        "INP_SIZE = (224,224)\n",
        "batch_size = 32\n",
        "\n",
        "x_train = []\n",
        "y_train = []\n",
        "y_list = y_df['id'].tolist();\n",
        "#Ucitavanje slika \n",
        "for f in glob.glob('/content/drive/MyDrive/leafs/images/*.jpg'):\n",
        "  #Provera da li je red učitan\n",
        "  if(int(Path(f).stem) in y_list):\n",
        "    y_train.append(y_df.loc[y_df['id'] == int(Path(f).stem), 'species'].iloc[0])\n",
        "    image = tf.io.read_file(f)\n",
        "    image = tf.io.decode_jpeg(image,channels = 3)\n",
        "    image = tf.image.resize(image, (INP_SIZE[0], INP_SIZE[1]))\n",
        "    x_train.append(image/255)\n",
        "\n",
        "x_train = np.array(x_train)\n"
      ],
      "metadata": {
        "id": "0y7FLKSARtuG"
      },
      "execution_count": 128,
      "outputs": []
    },
    {
      "cell_type": "markdown",
      "source": [
        "##Priprema podataka"
      ],
      "metadata": {
        "id": "Q-wiYyUqCmMw"
      }
    },
    {
      "cell_type": "code",
      "source": [
        "from tensorflow.keras.utils import to_categorical\n",
        "from sklearn.preprocessing import LabelEncoder\n",
        "\n",
        "\n",
        "y_train = np.array(y_train)\n",
        "\n",
        "label_encoder = LabelEncoder()\n",
        "vec = label_encoder.fit_transform(y_train)\n",
        "\n",
        "#Kodiranje labela pomocu one hot encoding\n",
        "y_train = to_categorical(vec, 99)"
      ],
      "metadata": {
        "id": "XwA1h7GFLDAZ"
      },
      "execution_count": 130,
      "outputs": []
    },
    {
      "cell_type": "code",
      "source": [
        "from sklearn.model_selection import train_test_split\n",
        "\n",
        "#Podela trening podataka na trening i validaciju\n",
        "\n",
        "x_train, x_valid, y_train, y_valid = train_test_split(x_train, y_train,test_size=0.2)"
      ],
      "metadata": {
        "id": "8L5ebFImpE4s"
      },
      "execution_count": 131,
      "outputs": []
    },
    {
      "cell_type": "code",
      "source": [
        "import matplotlib.pyplot as plt\n",
        "\n",
        "#Prikaz slike\n",
        "plt.imshow(x_train[582], cmap='gray', vmin=0, vmax=255)\n",
        "plt.show()\n",
        "print(image.shape)"
      ],
      "metadata": {
        "colab": {
          "base_uri": "https://localhost:8080/",
          "height": 286
        },
        "id": "fmP5x97dWkF6",
        "outputId": "4702c164-d6e3-4f68-cf8b-3d4722874e23"
      },
      "execution_count": 64,
      "outputs": [
        {
          "output_type": "display_data",
          "data": {
            "text/plain": [
              "<Figure size 432x288 with 1 Axes>"
            ],
            "image/png": "[encoded data removed]"
          },
          "metadata": {
            "needs_background": "light"
          }
        },
        {
          "output_type": "stream",
          "name": "stdout",
          "text": [
            "(224, 224, 3)\n"
          ]
        }
      ]
    },
    {
      "cell_type": "markdown",
      "source": [
        "##Kreiranje modela i testiranje"
      ],
      "metadata": {
        "id": "CHZ0wjgnC0R2"
      }
    },
    {
      "cell_type": "code",
      "source": [
        "from tensorflow.keras.applications.vgg16 import VGG16\n",
        "\n",
        "# Učitavanje VGG16 modela\n",
        "base_model = VGG16(weights=\"imagenet\", include_top=False, input_shape=(INP_SIZE[0], INP_SIZE[1], 3))\n",
        "base_model.trainable = False\n",
        "\n",
        "# Prikaz modela bez dodatnih slojeva\n",
        "base_model.summary()"
      ],
      "metadata": {
        "colab": {
          "base_uri": "https://localhost:8080/"
        },
        "id": "1aJxL8mHXEGr",
        "outputId": "5e8bd0b0-4ad1-435e-9b73-4b12a38811a1"
      },
      "execution_count": 133,
      "outputs": [
        {
          "output_type": "stream",
          "name": "stdout",
          "text": [
            "Model: \"vgg16\"\n",
            "_________________________________________________________________\n",
            " Layer (type)                Output Shape              Param #   \n",
            "=================================================================\n",
            " input_9 (InputLayer)        [(None, 224, 224, 3)]     0         \n",
            "                                                                 \n",
            " block1_conv1 (Conv2D)       (None, 224, 224, 64)      1792      \n",
            "                                                                 \n",
            " block1_conv2 (Conv2D)       (None, 224, 224, 64)      36928     \n",
            "                                                                 \n",
            " block1_pool (MaxPooling2D)  (None, 112, 112, 64)      0         \n",
            "                                                                 \n",
            " block2_conv1 (Conv2D)       (None, 112, 112, 128)     73856     \n",
            "                                                                 \n",
            " block2_conv2 (Conv2D)       (None, 112, 112, 128)     147584    \n",
            "                                                                 \n",
            " block2_pool (MaxPooling2D)  (None, 56, 56, 128)       0         \n",
            "                                                                 \n",
            " block3_conv1 (Conv2D)       (None, 56, 56, 256)       295168    \n",
            "                                                                 \n",
            " block3_conv2 (Conv2D)       (None, 56, 56, 256)       590080    \n",
            "                                                                 \n",
            " block3_conv3 (Conv2D)       (None, 56, 56, 256)       590080    \n",
            "                                                                 \n",
            " block3_pool (MaxPooling2D)  (None, 28, 28, 256)       0         \n",
            "                                                                 \n",
            " block4_conv1 (Conv2D)       (None, 28, 28, 512)       1180160   \n",
            "                                                                 \n",
            " block4_conv2 (Conv2D)       (None, 28, 28, 512)       2359808   \n",
            "                                                                 \n",
            " block4_conv3 (Conv2D)       (None, 28, 28, 512)       2359808   \n",
            "                                                                 \n",
            " block4_pool (MaxPooling2D)  (None, 14, 14, 512)       0         \n",
            "                                                                 \n",
            " block5_conv1 (Conv2D)       (None, 14, 14, 512)       2359808   \n",
            "                                                                 \n",
            " block5_conv2 (Conv2D)       (None, 14, 14, 512)       2359808   \n",
            "                                                                 \n",
            " block5_conv3 (Conv2D)       (None, 14, 14, 512)       2359808   \n",
            "                                                                 \n",
            " block5_pool (MaxPooling2D)  (None, 7, 7, 512)         0         \n",
            "                                                                 \n",
            "=================================================================\n",
            "Total params: 14,714,688\n",
            "Trainable params: 0\n",
            "Non-trainable params: 14,714,688\n",
            "_________________________________________________________________\n"
          ]
        }
      ]
    },
    {
      "cell_type": "code",
      "source": [
        "from tensorflow.keras import layers, models\n",
        "\n",
        "#Dodavanje poslednjih slojeva kako bi se model prilagodijo našem cilju \n",
        "flatten_layer = layers.Flatten()\n",
        "dense_layer = layers.Dense(128, activation='relu')\n",
        "prediction_layer = layers.Dense(99, activation='softmax')\n",
        "\n",
        "model_vgg16 = models.Sequential([\n",
        "    base_model,\n",
        "    flatten_layer,\n",
        "    dense_layer,\n",
        "    prediction_layer\n",
        "])\n",
        "model_vgg16.summary()"
      ],
      "metadata": {
        "colab": {
          "base_uri": "https://localhost:8080/"
        },
        "id": "gtFZX6htXurk",
        "outputId": "f3354d75-04c2-424a-b6fd-d663ddca62d7"
      },
      "execution_count": 134,
      "outputs": [
        {
          "output_type": "stream",
          "name": "stdout",
          "text": [
            "Model: \"sequential_13\"\n",
            "_________________________________________________________________\n",
            " Layer (type)                Output Shape              Param #   \n",
            "=================================================================\n",
            " vgg16 (Functional)          (None, 7, 7, 512)         14714688  \n",
            "                                                                 \n",
            " flatten_13 (Flatten)        (None, 25088)             0         \n",
            "                                                                 \n",
            " dense_24 (Dense)            (None, 128)               3211392   \n",
            "                                                                 \n",
            " dense_25 (Dense)            (None, 99)                12771     \n",
            "                                                                 \n",
            "=================================================================\n",
            "Total params: 17,938,851\n",
            "Trainable params: 3,224,163\n",
            "Non-trainable params: 14,714,688\n",
            "_________________________________________________________________\n"
          ]
        }
      ]
    },
    {
      "cell_type": "code",
      "source": [
        "from tensorflow.keras.callbacks import EarlyStopping\n",
        "from tensorflow.keras.optimizers import Adam\n",
        "\n",
        "#Podešavanje i treniranje modela\n",
        "model_vgg16.compile(\n",
        "    optimizer=Adam(lr=0.0005),\n",
        "    loss='categorical_crossentropy',\n",
        "    metrics=['accuracy'],\n",
        ")\n",
        "\n",
        "early_stopping = EarlyStopping(monitor='val_accuracy', mode='max', patience=5,  restore_best_weights=True)\n",
        "\n",
        "#Treniranje modela i pamćenje procesa treniranja radi kasnijeg grafičkog prikaza treniranja kroz epohe\n",
        "history = model_vgg16.fit(x=x_train,y=y_train,validation_data=(x_valid,y_valid),batch_size = batch_size, epochs=5)"
      ],
      "metadata": {
        "colab": {
          "base_uri": "https://localhost:8080/"
        },
        "id": "HsWX0eyWX7vI",
        "outputId": "2cff34ca-340a-431f-9ddd-8dfbc2300da4"
      },
      "execution_count": 135,
      "outputs": [
        {
          "output_type": "stream",
          "name": "stderr",
          "text": [
            "/usr/local/lib/python3.7/dist-packages/keras/optimizer_v2/adam.py:105: UserWarning: The `lr` argument is deprecated, use `learning_rate` instead.\n",
            "  super(Adam, self).__init__(name, **kwargs)\n"
          ]
        },
        {
          "output_type": "stream",
          "name": "stdout",
          "text": [
            "Epoch 1/5\n",
            "25/25 [==============================] - 6s 215ms/step - loss: 4.4012 - accuracy: 0.0720 - val_loss: 4.0111 - val_accuracy: 0.1465\n",
            "Epoch 2/5\n",
            "25/25 [==============================] - 5s 206ms/step - loss: 3.4053 - accuracy: 0.2677 - val_loss: 3.2314 - val_accuracy: 0.2576\n",
            "Epoch 3/5\n",
            "25/25 [==============================] - 5s 207ms/step - loss: 2.5053 - accuracy: 0.4823 - val_loss: 2.5587 - val_accuracy: 0.4697\n",
            "Epoch 4/5\n",
            "25/25 [==============================] - 5s 208ms/step - loss: 1.7494 - accuracy: 0.6944 - val_loss: 1.8670 - val_accuracy: 0.6717\n",
            "Epoch 5/5\n",
            "25/25 [==============================] - 5s 206ms/step - loss: 1.1674 - accuracy: 0.8371 - val_loss: 1.4397 - val_accuracy: 0.7576\n"
          ]
        }
      ]
    },
    {
      "cell_type": "code",
      "source": [
        "import tensorflow as tf\n",
        "from tensorflow.keras.models import Sequential\n",
        "from tensorflow.keras.optimizers import Adam\n",
        "\n",
        "#kreiranje resnet-50 modela\n",
        "resnet_model = Sequential()\n",
        "\n",
        "pretrained_model= tf.keras.applications.ResNet50(include_top=False,\n",
        "                   input_shape=(224,224,3),\n",
        "                   pooling='avg',classes=99,\n",
        "                   weights='imagenet')\n",
        "for layer in pretrained_model.layers:\n",
        "        layer.trainable=False\n",
        "\n",
        "resnet_model.add(pretrained_model)"
      ],
      "metadata": {
        "id": "oHppisT0POV-"
      },
      "execution_count": 139,
      "outputs": []
    },
    {
      "cell_type": "code",
      "source": [
        "from tensorflow.keras import layers\n",
        "\n",
        "#dodavanje poslednjih slojeva\n",
        "resnet_model.add(layers.Flatten())\n",
        "resnet_model.add(layers.Dense(512, activation='relu'))\n",
        "resnet_model.add(layers.Dense(99, activation='softmax'))\n",
        "\n",
        "resnet_model.summary()"
      ],
      "metadata": {
        "colab": {
          "base_uri": "https://localhost:8080/"
        },
        "id": "Lt8FKCUEgGKp",
        "outputId": "9bcdd2af-81c9-42c5-a62e-3703d440cf61"
      },
      "execution_count": 140,
      "outputs": [
        {
          "output_type": "stream",
          "name": "stdout",
          "text": [
            "Model: \"sequential_14\"\n",
            "_________________________________________________________________\n",
            " Layer (type)                Output Shape              Param #   \n",
            "=================================================================\n",
            " resnet50 (Functional)       (None, 2048)              23587712  \n",
            "                                                                 \n",
            " flatten_14 (Flatten)        (None, 2048)              0         \n",
            "                                                                 \n",
            " dense_26 (Dense)            (None, 512)               1049088   \n",
            "                                                                 \n",
            " dense_27 (Dense)            (None, 99)                50787     \n",
            "                                                                 \n",
            "=================================================================\n",
            "Total params: 24,687,587\n",
            "Trainable params: 1,099,875\n",
            "Non-trainable params: 23,587,712\n",
            "_________________________________________________________________\n"
          ]
        }
      ]
    },
    {
      "cell_type": "code",
      "source": [
        "#treniranje resnet-50 modela\n",
        "resnet_model.compile(optimizer=Adam(lr=0.001),loss='categorical_crossentropy',metrics=['accuracy'])\n",
        "\n",
        "history2 = resnet_model.fit(x=x_train,y=y_train, validation_data=(x_valid,y_valid), epochs=5)"
      ],
      "metadata": {
        "colab": {
          "base_uri": "https://localhost:8080/"
        },
        "id": "13IkX37egsg0",
        "outputId": "b9a6a3d0-7bae-4439-c1a2-f7ee07ad45d5"
      },
      "execution_count": 141,
      "outputs": [
        {
          "output_type": "stream",
          "name": "stderr",
          "text": [
            "/usr/local/lib/python3.7/dist-packages/keras/optimizer_v2/adam.py:105: UserWarning: The `lr` argument is deprecated, use `learning_rate` instead.\n",
            "  super(Adam, self).__init__(name, **kwargs)\n"
          ]
        },
        {
          "output_type": "stream",
          "name": "stdout",
          "text": [
            "Epoch 1/5\n",
            "25/25 [==============================] - 9s 219ms/step - loss: 4.6701 - accuracy: 0.0227 - val_loss: 4.4772 - val_accuracy: 0.0404\n",
            "Epoch 2/5\n",
            "25/25 [==============================] - 3s 129ms/step - loss: 4.1898 - accuracy: 0.1061 - val_loss: 4.1970 - val_accuracy: 0.0707\n",
            "Epoch 3/5\n",
            "25/25 [==============================] - 4s 156ms/step - loss: 3.8096 - accuracy: 0.1831 - val_loss: 3.8442 - val_accuracy: 0.1364\n",
            "Epoch 4/5\n",
            "25/25 [==============================] - 3s 131ms/step - loss: 3.4168 - accuracy: 0.2500 - val_loss: 3.4571 - val_accuracy: 0.1919\n",
            "Epoch 5/5\n",
            "25/25 [==============================] - 3s 131ms/step - loss: 3.0594 - accuracy: 0.3157 - val_loss: 3.1712 - val_accuracy: 0.3081\n"
          ]
        }
      ]
    },
    {
      "cell_type": "markdown",
      "source": [
        "##Rezultati"
      ],
      "metadata": {
        "id": "CFsBeXGiDUHv"
      }
    },
    {
      "cell_type": "code",
      "source": [
        "import matplotlib.pyplot as plt\n",
        "import matplotlib.image as mpimg\n",
        "\n",
        "##Fukcija za iscrtavanje rezultata\n",
        "def plot_loss_curves(history):\n",
        "  \"\"\"\n",
        "  Returns separate loss curves for training and validation metrics.\n",
        "  \"\"\" \n",
        "  loss = history.history['loss']\n",
        "  val_loss = history.history['val_loss']\n",
        "\n",
        "  accuracy = history.history['accuracy']\n",
        "  val_accuracy = history.history['val_accuracy']\n",
        "\n",
        "  epochs = range(len(history.history['loss']))\n",
        "\n",
        "  # Plot loss\n",
        "  plt.plot(epochs, loss, label='training_loss')\n",
        "  plt.plot(epochs, val_loss, label='val_loss')\n",
        "  plt.title('Loss')\n",
        "  plt.xlabel('Epochs')\n",
        "  plt.legend()\n",
        "\n",
        "  # Plot accuracy\n",
        "  plt.figure()\n",
        "  plt.plot(epochs, accuracy, label='training_accuracy')\n",
        "  plt.plot(epochs, val_accuracy, label='val_accuracy')\n",
        "  plt.title('Accuracy')\n",
        "  plt.xlabel('Epochs')\n",
        "  plt.legend();"
      ],
      "metadata": {
        "id": "jDecgBPOJulR"
      },
      "execution_count": 137,
      "outputs": []
    },
    {
      "cell_type": "code",
      "source": [
        "plot_loss_curves(history)"
      ],
      "metadata": {
        "colab": {
          "base_uri": "https://localhost:8080/",
          "height": 573
        },
        "id": "qlzMctQIPI-u",
        "outputId": "fece5060-5b56-4627-f503-9909c78a0aaa"
      },
      "execution_count": 138,
      "outputs": [
        {
          "output_type": "display_data",
          "data": {
            "text/plain": [
              "<Figure size 432x288 with 1 Axes>"
            ],
            "image/png": "[encoded data removed]"
          },
          "metadata": {
            "needs_background": "light"
          }
        },
        {
          "output_type": "display_data",
          "data": {
            "text/plain": [
              "<Figure size 432x288 with 1 Axes>"
            ],
            "image/png": "[encoded data removed]"
          },
          "metadata": {
            "needs_background": "light"
          }
        }
      ]
    },
    {
      "cell_type": "code",
      "source": [
        "plot_loss_curves(history2)"
      ],
      "metadata": {
        "colab": {
          "base_uri": "https://localhost:8080/",
          "height": 573
        },
        "id": "6Kxe-wbLg6Vz",
        "outputId": "082f10d6-776a-4536-c527-9626a5fc0983"
      },
      "execution_count": 143,
      "outputs": [
        {
          "output_type": "display_data",
          "data": {
            "text/plain": [
              "<Figure size 432x288 with 1 Axes>"
            ],
            "image/png": "[encoded data removed]"
          },
          "metadata": {
            "needs_background": "light"
          }
        },
        {
          "output_type": "display_data",
          "data": {
            "text/plain": [
              "<Figure size 432x288 with 1 Axes>"
            ],
            "image/png": "[encoded data removed]"
          },
          "metadata": {
            "needs_background": "light"
          }
        }
      ]
    },
    {
      "cell_type": "markdown",
      "source": [
        "##Zaključak\n",
        "\n",
        "U ovom radu su iskorišćeni razni modeli. Kao što se iz rezultata može videti za klasifikaciju na osnovu atributa  najbolje se pokazao RandomForrest algoritam, a za klasifikaciju na osnovu slike VGG-16.\n",
        "\n",
        "Najveći izazov u ovom zadatku je bila priprema podataka zato što se nisu iščitavali svi redovi pa se prilikom učitavanja slika morale ukloniti slike koje čiji redovi se nisu nalazili u pandas dataframe-u."
      ],
      "metadata": {
        "id": "X1lIK3ogDv6X"
      }
    },
    {
      "cell_type": "markdown",
      "source": [
        "## Reference\n",
        "\n",
        "[1]https://doi.org/10.48550/arXiv.1409.1556\n",
        "\n",
        "[2]https://doi.org/10.48550/arXiv.1512.03385"
      ],
      "metadata": {
        "id": "5S7S1CblFndI"
      }
    },
    {
      "cell_type": "code",
      "source": [],
      "metadata": {
        "id": "s0c42Pc3EOsa"
      },
      "execution_count": null,
      "outputs": []
    },
    {
      "cell_type": "markdown",
      "source": [],
      "metadata": {
        "id": "a_z_2hheDx9X"
      }
    },
    {
      "cell_type": "code",
      "source": [],
      "metadata": {
        "id": "_2CZzHLhqf79"
      },
      "execution_count": null,
      "outputs": []
    }
  ],
  "metadata": {
    "colab": {
      "provenance": [],
      "collapsed_sections": []
    },
    "kernelspec": {
      "display_name": "Python 3",
      "name": "python3"
    },
    "language_info": {
      "name": "python"
    },
    "accelerator": "GPU",
    "gpuClass": "standard"
  },
  "nbformat": 4,
  "nbformat_minor": 0
}